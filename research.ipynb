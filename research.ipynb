{
 "cells": [
  {
   "cell_type": "code",
   "execution_count": 7,
   "metadata": {},
   "outputs": [
    {
     "data": {
      "text/plain": [
       "(9, 9)"
      ]
     },
     "execution_count": 7,
     "metadata": {},
     "output_type": "execute_result"
    }
   ],
   "source": [
    "import numpy as np\n",
    "\n",
    "array =np.array([\n",
    "                    [0,2,0,0,0,0,0,0,0],\n",
    "                    [0,0,0,6,0,0,0,0,3],\n",
    "                    [0,7,4,0,8,0,0,0,0],\n",
    "                    [0,0,0,0,0,3,0,0,2],\n",
    "                    [0,8,0,0,4,0,0,1,0],\n",
    "                    [6,0,0,5,0,0,0,0,0],\n",
    "                    [0,0,0,0,1,0,7,8,0],\n",
    "                    [5,0,0,0,0,9,0,0,0],\n",
    "                    [0,0,0,0,0,0,0,4,0],\n",
    "                ])\n",
    "array.shape"
   ]
  },
  {
   "cell_type": "code",
   "execution_count": 8,
   "metadata": {},
   "outputs": [],
   "source": [
    "from src.solver.plp_solver import SudokuSolver\n",
    "\n",
    "sudoku_solver = SudokuSolver()"
   ]
  },
  {
   "cell_type": "code",
   "execution_count": 9,
   "metadata": {},
   "outputs": [
    {
     "name": "stdout",
     "output_type": "stream",
     "text": [
      "Solution Status = Optimal\n"
     ]
    },
    {
     "data": {
      "text/plain": [
       "array([[1, 2, 3, 6, 7, 8, 9, 4, 5],\n",
       "       [5, 8, 4, 2, 3, 9, 7, 6, 1],\n",
       "       [9, 6, 7, 1, 4, 5, 3, 2, 8],\n",
       "       [3, 7, 2, 4, 6, 1, 5, 8, 9],\n",
       "       [6, 9, 1, 5, 8, 3, 2, 7, 4],\n",
       "       [4, 5, 8, 7, 9, 2, 6, 1, 3],\n",
       "       [8, 3, 6, 9, 2, 4, 1, 5, 7],\n",
       "       [2, 1, 9, 8, 5, 7, 4, 3, 6],\n",
       "       [7, 4, 5, 3, 1, 6, 8, 9, 2]])"
      ]
     },
     "execution_count": 9,
     "metadata": {},
     "output_type": "execute_result"
    }
   ],
   "source": [
    "sudoku_solver.solve(\n",
    "    array\n",
    ")"
   ]
  }
 ],
 "metadata": {
  "interpreter": {
   "hash": "0c9b7e65efa06266cbee5e76b6ff715781f65719152dab4488514d59df13be8c"
  },
  "kernelspec": {
   "display_name": "Python 3.9.9 ('venv': venv)",
   "language": "python",
   "name": "python3"
  },
  "language_info": {
   "codemirror_mode": {
    "name": "ipython",
    "version": 3
   },
   "file_extension": ".py",
   "mimetype": "text/x-python",
   "name": "python",
   "nbconvert_exporter": "python",
   "pygments_lexer": "ipython3",
   "version": "3.9.9"
  },
  "orig_nbformat": 4
 },
 "nbformat": 4,
 "nbformat_minor": 2
}
