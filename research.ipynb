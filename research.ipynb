{
 "cells": [
  {
   "cell_type": "code",
   "execution_count": 50,
   "metadata": {},
   "outputs": [],
   "source": [
    "# Fix the imports\n",
    "import os\n",
    "import sys\n",
    "module_path = os.path.abspath(os.path.join('..'))\n",
    "if module_path not in sys.path:\n",
    "    sys.path.append(module_path)"
   ]
  },
  {
   "cell_type": "code",
   "execution_count": 51,
   "metadata": {},
   "outputs": [],
   "source": [
    "import cv2\n",
    "def view_image(image, windowname='image_view'):\n",
    "    cv2.imshow(windowname, image)\n",
    "    cv2.waitKey(0)"
   ]
  },
  {
   "cell_type": "code",
   "execution_count": 52,
   "metadata": {},
   "outputs": [],
   "source": [
    "import cv2\n",
    "import numpy as np\n",
    "import imutils\n",
    "from imutils.perspective import four_point_transform\n",
    "\n",
    "def find_board(image):\n",
    "    img_gray = cv2.cvtColor(image, cv2.COLOR_BGR2GRAY)\n",
    "    blurred = cv2.GaussianBlur(img_gray, (3,3), 3)\n",
    "    thresh = cv2.adaptiveThreshold(blurred, 255, cv2.ADAPTIVE_THRESH_GAUSSIAN_C, cv2.THRESH_BINARY_INV, 11, 2)\n",
    "    element = cv2.getStructuringElement(cv2.MORPH_ELLIPSE, (3,3))\n",
    "    opened = cv2.morphologyEx(thresh, cv2.MORPH_OPEN, element)\n",
    "    closed = cv2.morphologyEx(opened, cv2.MORPH_CLOSE, element)\n",
    "    cnts = cv2.findContours(closed.copy(), cv2.RETR_EXTERNAL,\n",
    "        cv2.CHAIN_APPROX_SIMPLE)\n",
    "    cnts = imutils.grab_contours(cnts)\n",
    "    cnts = sorted(cnts, key=cv2.contourArea, reverse=True)\n",
    "    # initialize a contour that corresponds to the puzzle outline\n",
    "    puzzleCnt = None\n",
    "    # loop over the contours\n",
    "    for c in cnts:\n",
    "        # approximate the contour\n",
    "        peri = cv2.arcLength(c, True)\n",
    "        approx = cv2.approxPolyDP(c, 0.02 * peri, True)\n",
    "        # if our approximated contour has four points, then we can\n",
    "        # assume we have found the outline of the puzzle\n",
    "        if len(approx) == 4:\n",
    "            puzzleCnt = approx\n",
    "            break\n",
    "    puzzle_warped = four_point_transform(img_gray, puzzleCnt.reshape(4, 2))\n",
    "    puzzle_warped_thresh = four_point_transform(thresh, puzzleCnt.reshape(4, 2))\n",
    "    return puzzle_warped, puzzle_warped_thresh"
   ]
  },
  {
   "cell_type": "code",
   "execution_count": 53,
   "metadata": {},
   "outputs": [],
   "source": [
    "def zoom_image(img, zoom):\n",
    "    y, x = img.shape\n",
    "    return img[0 + int(y*zoom): y - int(y*zoom),0 + int(x*zoom): x - int(x*zoom)]"
   ]
  },
  {
   "cell_type": "code",
   "execution_count": 54,
   "metadata": {},
   "outputs": [],
   "source": [
    "def check_cell(cell):\n",
    "    y, x = cell.shape\n",
    "    percent_filled = cv2.countNonZero(zoom_image(cell, 0.2)) / float(y * x)\n",
    "    return percent_filled < 0.08"
   ]
  },
  {
   "cell_type": "code",
   "execution_count": 55,
   "metadata": {},
   "outputs": [],
   "source": [
    "image = cv2.imread('./data/sudoku_2.jpeg')\n",
    "image_warped, image_warped_thresh = find_board(image)\n",
    "view_image(image_warped)"
   ]
  },
  {
   "cell_type": "code",
   "execution_count": 56,
   "metadata": {},
   "outputs": [],
   "source": [
    "import pytesseract\n",
    "from PIL import Image\n",
    "pytesseract.pytesseract.tesseract_cmd = r\"C:\\Program Files\\Tesseract-OCR\\tesseract.exe\"\n",
    "def pred_number(image) -> int:\n",
    "    img = Image.fromarray(cv2.cvtColor(image, cv2.COLOR_GRAY2RGB))\n",
    "    return pytesseract.image_to_string(img, config='--psm 10 --oem 3 -c tessedit_char_whitelist=0123456789')"
   ]
  },
  {
   "cell_type": "code",
   "execution_count": 68,
   "metadata": {},
   "outputs": [],
   "source": [
    "# initialize our 9x9 Sudoku board\n",
    "board = np.zeros((9, 9), dtype=\"int\")\n",
    "# a Sudoku puzzle is a 9x9 grid (81 individual cells), so we can\n",
    "# infer the location of each cell by dividing the warped image\n",
    "# into a 9x9 grid\n",
    "stepX = image_warped.shape[1] // 9\n",
    "stepY = image_warped.shape[0] // 9\n",
    "# loop over the grid locations\n",
    "for y in range(0, 9):\n",
    "    for x in range(0, 9):\n",
    "        # compute the starting and ending (x, y)-coordinates of the\n",
    "        # current cell\n",
    "        startX = x * stepX\n",
    "        startY = y * stepY\n",
    "        endX = (x + 1) * stepX\n",
    "        endY = (y + 1) * stepY\n",
    "\n",
    "        # extract the digit from the cell\n",
    "        cell_thresh = image_warped_thresh[startY:endY, startX:endX]\n",
    "        is_empty = check_cell(cell_thresh)\n",
    "        # verify that the digit is not empty\n",
    "        if not is_empty:\n",
    "            cell = image_warped[startY:endY, startX:endX]\n",
    "            pred = pred_number(cell)\n",
    "            # pred = ocr_cell(cell)['predicted_label'][0]\n",
    "            if pred:\n",
    "                board[y, x] = pred[0]"
   ]
  },
  {
   "cell_type": "code",
   "execution_count": 69,
   "metadata": {},
   "outputs": [
    {
     "data": {
      "text/plain": [
       "array([[8, 0, 0, 0, 1, 0, 0, 0, 9],\n",
       "       [0, 5, 0, 1, 0, 0, 0, 4, 0],\n",
       "       [0, 0, 4, 0, 9, 0, 0, 0, 0],\n",
       "       [0, 6, 0, 0, 0, 0, 0, 0, 0],\n",
       "       [1, 0, 8, 0, 6, 0, 1, 0, 7],\n",
       "       [0, 4, 0, 5, 0, 0, 0, 9, 0],\n",
       "       [0, 0, 7, 0, 4, 0, 0, 0, 0],\n",
       "       [0, 8, 0, 1, 0, 9, 0, 4, 0],\n",
       "       [1, 0, 0, 0, 5, 0, 0, 0, 8]])"
      ]
     },
     "execution_count": 69,
     "metadata": {},
     "output_type": "execute_result"
    }
   ],
   "source": [
    "board"
   ]
  },
  {
   "cell_type": "code",
   "execution_count": null,
   "metadata": {},
   "outputs": [],
   "source": [
    "from src.solver.plp_solver import SudokuSolver\n",
    "\n",
    "sudoku_solver = SudokuSolver()"
   ]
  },
  {
   "cell_type": "code",
   "execution_count": null,
   "metadata": {},
   "outputs": [
    {
     "data": {
      "text/plain": [
       "array([[8, 3, 6, 9, 4, 2, 5, 7, 1],\n",
       "       [4, 1, 9, 5, 7, 8, 6, 3, 2],\n",
       "       [5, 7, 2, 6, 3, 1, 4, 9, 8],\n",
       "       [1, 9, 3, 2, 6, 7, 8, 4, 5],\n",
       "       [6, 4, 5, 8, 9, 3, 1, 2, 7],\n",
       "       [7, 2, 8, 4, 1, 5, 9, 6, 3],\n",
       "       [3, 5, 4, 1, 2, 6, 7, 8, 9],\n",
       "       [9, 8, 7, 3, 5, 4, 2, 1, 6],\n",
       "       [2, 6, 1, 7, 8, 9, 3, 5, 4]])"
      ]
     },
     "execution_count": 14,
     "metadata": {},
     "output_type": "execute_result"
    }
   ],
   "source": [
    "sudoku_solver.solve(\n",
    "    board\n",
    ")"
   ]
  }
 ],
 "metadata": {
  "interpreter": {
   "hash": "0c9b7e65efa06266cbee5e76b6ff715781f65719152dab4488514d59df13be8c"
  },
  "kernelspec": {
   "display_name": "Python 3.9.9 ('venv': venv)",
   "language": "python",
   "name": "python3"
  },
  "language_info": {
   "codemirror_mode": {
    "name": "ipython",
    "version": 3
   },
   "file_extension": ".py",
   "mimetype": "text/x-python",
   "name": "python",
   "nbconvert_exporter": "python",
   "pygments_lexer": "ipython3",
   "version": "3.9.9"
  },
  "orig_nbformat": 4
 },
 "nbformat": 4,
 "nbformat_minor": 2
}
