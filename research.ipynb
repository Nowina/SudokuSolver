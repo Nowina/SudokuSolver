{
 "cells": [
  {
   "cell_type": "code",
   "execution_count": 1,
   "metadata": {},
   "outputs": [
    {
     "data": {
      "text/plain": [
       "(9, 9)"
      ]
     },
     "execution_count": 1,
     "metadata": {},
     "output_type": "execute_result"
    }
   ],
   "source": [
    "import numpy as np\n",
    "\n",
    "array =np.array([\n",
    "\n",
    "                ])\n",
    "array.shape"
   ]
  },
  {
   "cell_type": "code",
   "execution_count": 2,
   "metadata": {},
   "outputs": [],
   "source": [
    "from src.solver.solver import SudokuSolver\n",
    "\n",
    "sudoku_solver = SudokuSolver()"
   ]
  },
  {
   "cell_type": "code",
   "execution_count": 3,
   "metadata": {},
   "outputs": [
    {
     "data": {
      "text/plain": [
       "array([[3, 6, 7, 8, 9, 4, 2, 5, 1],\n",
       "       [5, 9, 8, 3, 1, 2, 6, 7, 4],\n",
       "       [2, 4, 1, 5, 7, 6, 8, 3, 9],\n",
       "       [7, 2, 3, 9, 8, 1, 4, 6, 5],\n",
       "       [8, 5, 6, 4, 2, 3, 9, 1, 7],\n",
       "       [4, 1, 9, 7, 6, 5, 3, 2, 8],\n",
       "       [1, 8, 5, 6, 3, 9, 7, 4, 2],\n",
       "       [6, 7, 2, 1, 4, 8, 5, 9, 3],\n",
       "       [9, 3, 4, 2, 5, 7, 1, 8, 6]])"
      ]
     },
     "execution_count": 3,
     "metadata": {},
     "output_type": "execute_result"
    }
   ],
   "source": [
    "sudoku_solver.solve(\n",
    "    array\n",
    ")"
   ]
  }
 ],
 "metadata": {
  "interpreter": {
   "hash": "0c9b7e65efa06266cbee5e76b6ff715781f65719152dab4488514d59df13be8c"
  },
  "kernelspec": {
   "display_name": "Python 3.9.9 ('venv': venv)",
   "language": "python",
   "name": "python3"
  },
  "language_info": {
   "codemirror_mode": {
    "name": "ipython",
    "version": 3
   },
   "file_extension": ".py",
   "mimetype": "text/x-python",
   "name": "python",
   "nbconvert_exporter": "python",
   "pygments_lexer": "ipython3",
   "version": "3.9.9"
  },
  "orig_nbformat": 4
 },
 "nbformat": 4,
 "nbformat_minor": 2
}
